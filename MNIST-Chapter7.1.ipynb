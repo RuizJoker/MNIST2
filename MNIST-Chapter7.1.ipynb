{
 "cells": [
  {
   "cell_type": "code",
   "execution_count": 7,
   "metadata": {},
   "outputs": [],
   "source": [
    "#导入所需模块\n",
    "from keras.utils import np_utils\n",
    "import numpy as np\n",
    "np.random.seed(10)"
   ]
  },
  {
   "cell_type": "code",
   "execution_count": 8,
   "metadata": {},
   "outputs": [],
   "source": [
    "from keras.datasets import mnist\n",
    "(x_train_image,y_train_label),\\\n",
    "(x_test_image,y_test_label) = mnist.load_data()"
   ]
  },
  {
   "cell_type": "code",
   "execution_count": 15,
   "metadata": {},
   "outputs": [],
   "source": [
    "#将features（数字图像特征值）使用reshape转换\n",
    "x_Train = x_train_image.reshape(60000,784).astype('float32')\n",
    "x_Test = x_test_image.reshape(10000,784).astype('float32')"
   ]
  },
  {
   "cell_type": "code",
   "execution_count": 16,
   "metadata": {},
   "outputs": [],
   "source": [
    "#将features（数字图像特征值）标准化\n",
    "x_Train_normalize = x_Train/255\n",
    "x_Test_normalize = x_Test/255"
   ]
  },
  {
   "cell_type": "code",
   "execution_count": 17,
   "metadata": {},
   "outputs": [],
   "source": [
    "#label（数字真是的值）以one-Hot Encoding进行转换\n",
    "y_Train_OneHot = np_utils.to_categorical(y_train_label)\n",
    "y_Test_OneHot = np_utils.to_categorical(y_test_label)"
   ]
  },
  {
   "cell_type": "code",
   "execution_count": 9,
   "metadata": {},
   "outputs": [],
   "source": [
    "#多层感知加入DropOut功能以避免过度拟合\n",
    "from keras.models import Sequential\n",
    "from keras.layers import Dense\n",
    "from keras.layers import Dropout"
   ]
  },
  {
   "cell_type": "code",
   "execution_count": 10,
   "metadata": {},
   "outputs": [],
   "source": [
    "model = Sequential()"
   ]
  },
  {
   "cell_type": "code",
   "execution_count": 11,
   "metadata": {},
   "outputs": [],
   "source": [
    "model.add(Dense(units = 1000,\n",
    "               input_dim = 784,\n",
    "               kernel_initializer = 'normal',\n",
    "               activation = 'relu'))"
   ]
  },
  {
   "cell_type": "code",
   "execution_count": 12,
   "metadata": {},
   "outputs": [],
   "source": [
    "model.add(Dense(units = 10,\n",
    "               kernel_initializer = 'normal',\n",
    "               activation = 'softmax'))"
   ]
  },
  {
   "cell_type": "code",
   "execution_count": 13,
   "metadata": {},
   "outputs": [
    {
     "name": "stdout",
     "output_type": "stream",
     "text": [
      "_________________________________________________________________\n",
      "Layer (type)                 Output Shape              Param #   \n",
      "=================================================================\n",
      "dense_4 (Dense)              (None, 1000)              785000    \n",
      "_________________________________________________________________\n",
      "dense_5 (Dense)              (None, 10)                10010     \n",
      "=================================================================\n",
      "Total params: 795,010\n",
      "Trainable params: 795,010\n",
      "Non-trainable params: 0\n",
      "_________________________________________________________________\n",
      "None\n"
     ]
    }
   ],
   "source": [
    "#查看摘要\n",
    "print(model.summary())"
   ]
  },
  {
   "cell_type": "code",
   "execution_count": 19,
   "metadata": {},
   "outputs": [
    {
     "name": "stdout",
     "output_type": "stream",
     "text": [
      "Train on 48000 samples, validate on 12000 samples\n",
      "Epoch 1/10\n",
      " - 6s - loss: 0.2963 - acc: 0.9146 - val_loss: 0.1528 - val_acc: 0.9570\n",
      "Epoch 2/10\n",
      " - 5s - loss: 0.1184 - acc: 0.9655 - val_loss: 0.1075 - val_acc: 0.9682\n",
      "Epoch 3/10\n",
      " - 6s - loss: 0.0759 - acc: 0.9781 - val_loss: 0.0917 - val_acc: 0.9723\n",
      "Epoch 4/10\n",
      " - 5s - loss: 0.0517 - acc: 0.9850 - val_loss: 0.0875 - val_acc: 0.9734\n",
      "Epoch 5/10\n",
      " - 6s - loss: 0.0359 - acc: 0.9902 - val_loss: 0.0753 - val_acc: 0.9753\n",
      "Epoch 6/10\n",
      " - 5s - loss: 0.0256 - acc: 0.9938 - val_loss: 0.0740 - val_acc: 0.9778\n",
      "Epoch 7/10\n",
      " - 5s - loss: 0.0187 - acc: 0.9956 - val_loss: 0.0724 - val_acc: 0.9791\n",
      "Epoch 8/10\n",
      " - 5s - loss: 0.0132 - acc: 0.9972 - val_loss: 0.0717 - val_acc: 0.9790\n",
      "Epoch 9/10\n",
      " - 5s - loss: 0.0090 - acc: 0.9987 - val_loss: 0.0714 - val_acc: 0.9796\n",
      "Epoch 10/10\n",
      " - 6s - loss: 0.0064 - acc: 0.9992 - val_loss: 0.0715 - val_acc: 0.9799\n"
     ]
    }
   ],
   "source": [
    "#开始训练\n",
    "model.compile(loss ='categorical_crossentropy',\n",
    "             optimizer = 'adam',metrics = ['accuracy'])\n",
    "train_history = model.fit(x = x_Train_normalize,\n",
    "                         y = y_Train_OneHot,validation_split = 0.2,\n",
    "                         epochs = 10,batch_size = 200,verbose = 2)"
   ]
  },
  {
   "cell_type": "code",
   "execution_count": 22,
   "metadata": {},
   "outputs": [
    {
     "data": {
      "image/png": "[encoded data removed]",
      "text/plain": [
       "<Figure size 432x288 with 1 Axes>"
      ]
     },
     "metadata": {
      "needs_background": "light"
     },
     "output_type": "display_data"
    }
   ],
   "source": [
    "#画出准确率执行结果\n",
    "#建立showt_rain_history显示训练过程\n",
    "import matplotlib.pyplot as plt\n",
    "def show_train_history(train_history,train,validation):\n",
    "    plt.plot(train_history.history[train])\n",
    "    plt.plot(train_history.history[validation])\n",
    "    plt.title('Train History')\n",
    "    plt.ylabel(train)\n",
    "    plt.xlabel('Epoch')\n",
    "    plt.legend(['train','validation'],loc = 'upper left')\n",
    "    plt.show()\n",
    "show_train_history(train_history,'acc','val_acc')"
   ]
  },
  {
   "cell_type": "code",
   "execution_count": 23,
   "metadata": {},
   "outputs": [
    {
     "name": "stdout",
     "output_type": "stream",
     "text": [
      "10000/10000 [==============================] - 1s 68us/step\n",
      "\n",
      "accuracy =  0.9796\n"
     ]
    }
   ],
   "source": [
    "#查看预测准确率\n",
    "scores = model.evaluate(x_Test_normalize,y_Test_OneHot)\n",
    "print()\n",
    "print('accuracy = ',scores[1])"
   ]
  }
 ],
 "metadata": {
  "kernelspec": {
   "display_name": "Python 3",
   "language": "python",
   "name": "python3"
  },
  "language_info": {
   "codemirror_mode": {
    "name": "ipython",
    "version": 3
   },
   "file_extension": ".py",
   "mimetype": "text/x-python",
   "name": "python",
   "nbconvert_exporter": "python",
   "pygments_lexer": "ipython3",
   "version": "3.6.6"
  }
 },
 "nbformat": 4,
 "nbformat_minor": 2
}
