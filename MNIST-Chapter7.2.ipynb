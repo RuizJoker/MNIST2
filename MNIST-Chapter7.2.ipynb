{
 "cells": [
  {
   "cell_type": "code",
   "execution_count": 7,
   "metadata": {},
   "outputs": [],
   "source": [
    "#导入所需模块\n",
    "from keras.utils import np_utils\n",
    "import numpy as np\n",
    "np.random.seed(10)"
   ]
  },
  {
   "cell_type": "code",
   "execution_count": 8,
   "metadata": {},
   "outputs": [],
   "source": [
    "from keras.datasets import mnist\n",
    "(x_train_image,y_train_label),\\\n",
    "(x_test_image,y_test_label) = mnist.load_data()"
   ]
  },
  {
   "cell_type": "code",
   "execution_count": 9,
   "metadata": {},
   "outputs": [],
   "source": [
    "#将features（数字图像特征值）使用reshape转换\n",
    "x_Train = x_train_image.reshape(60000,784).astype('float32')\n",
    "x_Test = x_test_image.reshape(10000,784).astype('float32')"
   ]
  },
  {
   "cell_type": "code",
   "execution_count": 10,
   "metadata": {},
   "outputs": [],
   "source": [
    "#将features（数字图像特征值）标准化\n",
    "x_Train_normalize = x_Train/255\n",
    "x_Test_normalize = x_Test/255"
   ]
  },
  {
   "cell_type": "code",
   "execution_count": 11,
   "metadata": {},
   "outputs": [],
   "source": [
    "#label（数字真是的值）以one-Hot Encoding进行转换\n",
    "y_Train_OneHot = np_utils.to_categorical(y_train_label)\n",
    "y_Test_OneHot = np_utils.to_categorical(y_test_label)"
   ]
  },
  {
   "cell_type": "code",
   "execution_count": 12,
   "metadata": {},
   "outputs": [],
   "source": [
    "#多层感知加入DropOut功能以避免过度拟合\n",
    "from keras.models import Sequential\n",
    "from keras.layers import Dense\n",
    "from keras.layers import Dropout"
   ]
  },
  {
   "cell_type": "code",
   "execution_count": 13,
   "metadata": {},
   "outputs": [],
   "source": [
    "model = Sequential()"
   ]
  },
  {
   "cell_type": "code",
   "execution_count": 14,
   "metadata": {},
   "outputs": [],
   "source": [
    "model.add(Dense(units = 1000,\n",
    "               input_dim = 784,\n",
    "               kernel_initializer = 'normal',\n",
    "               activation = 'relu'))"
   ]
  },
  {
   "cell_type": "code",
   "execution_count": 15,
   "metadata": {},
   "outputs": [],
   "source": [
    "#加入Dropout功能\n",
    "model.add(Dropout(0.5))"
   ]
  },
  {
   "cell_type": "code",
   "execution_count": 16,
   "metadata": {},
   "outputs": [],
   "source": [
    "model.add(Dense(units = 10,\n",
    "               kernel_initializer = 'normal',\n",
    "               activation = 'softmax'))"
   ]
  },
  {
   "cell_type": "code",
   "execution_count": 17,
   "metadata": {},
   "outputs": [
    {
     "name": "stdout",
     "output_type": "stream",
     "text": [
      "_________________________________________________________________\n",
      "Layer (type)                 Output Shape              Param #   \n",
      "=================================================================\n",
      "dense_1 (Dense)              (None, 1000)              785000    \n",
      "_________________________________________________________________\n",
      "dropout_1 (Dropout)          (None, 1000)              0         \n",
      "_________________________________________________________________\n",
      "dense_2 (Dense)              (None, 10)                10010     \n",
      "=================================================================\n",
      "Total params: 795,010\n",
      "Trainable params: 795,010\n",
      "Non-trainable params: 0\n",
      "_________________________________________________________________\n",
      "None\n"
     ]
    }
   ],
   "source": [
    "#查看摘要\n",
    "print(model.summary())"
   ]
  },
  {
   "cell_type": "code",
   "execution_count": 18,
   "metadata": {},
   "outputs": [
    {
     "name": "stdout",
     "output_type": "stream",
     "text": [
      "Train on 48000 samples, validate on 12000 samples\n",
      "Epoch 1/10\n",
      " - 7s - loss: 0.3576 - acc: 0.8934 - val_loss: 0.1620 - val_acc: 0.9552\n",
      "Epoch 2/10\n",
      " - 6s - loss: 0.1603 - acc: 0.9529 - val_loss: 0.1166 - val_acc: 0.9659\n",
      "Epoch 3/10\n",
      " - 6s - loss: 0.1165 - acc: 0.9651 - val_loss: 0.0995 - val_acc: 0.9706\n",
      "Epoch 4/10\n",
      " - 6s - loss: 0.0928 - acc: 0.9725 - val_loss: 0.0913 - val_acc: 0.9728\n",
      "Epoch 5/10\n",
      " - 6s - loss: 0.0757 - acc: 0.9774 - val_loss: 0.0822 - val_acc: 0.9755\n",
      "Epoch 6/10\n",
      " - 6s - loss: 0.0622 - acc: 0.9805 - val_loss: 0.0764 - val_acc: 0.9770\n",
      "Epoch 7/10\n",
      " - 6s - loss: 0.0534 - acc: 0.9841 - val_loss: 0.0777 - val_acc: 0.9774\n",
      "Epoch 8/10\n",
      " - 6s - loss: 0.0489 - acc: 0.9852 - val_loss: 0.0732 - val_acc: 0.9788\n",
      "Epoch 9/10\n",
      " - 6s - loss: 0.0435 - acc: 0.9861 - val_loss: 0.0690 - val_acc: 0.9788\n",
      "Epoch 10/10\n",
      " - 6s - loss: 0.0374 - acc: 0.9887 - val_loss: 0.0674 - val_acc: 0.9804\n"
     ]
    }
   ],
   "source": [
    "#开始训练\n",
    "model.compile(loss ='categorical_crossentropy',\n",
    "             optimizer = 'adam',metrics = ['accuracy'])\n",
    "train_history = model.fit(x = x_Train_normalize,\n",
    "                         y = y_Train_OneHot,validation_split = 0.2,\n",
    "                         epochs = 10,batch_size = 200,verbose = 2)"
   ]
  },
  {
   "cell_type": "code",
   "execution_count": 20,
   "metadata": {},
   "outputs": [
    {
     "data": {
      "image/png": "[encoded data removed]",
      "text/plain": [
       "<Figure size 432x288 with 1 Axes>"
      ]
     },
     "metadata": {
      "needs_background": "light"
     },
     "output_type": "display_data"
    }
   ],
   "source": [
    "#画出准确率执行结果\n",
    "#建立showt_rain_history显示训练过程\n",
    "import matplotlib.pyplot as plt\n",
    "def show_train_history(train_history,train,validation):\n",
    "    plt.plot(train_history.history[train])\n",
    "    plt.plot(train_history.history[validation])\n",
    "    plt.title('Train History')\n",
    "    plt.ylabel(train)\n",
    "    plt.xlabel('Epoch')\n",
    "    plt.legend(['train','validation'],loc = 'upper left')\n",
    "    plt.show()\n",
    "show_train_history(train_history,'acc','val_acc')"
   ]
  },
  {
   "cell_type": "code",
   "execution_count": 21,
   "metadata": {},
   "outputs": [
    {
     "name": "stdout",
     "output_type": "stream",
     "text": [
      "10000/10000 [==============================] - 1s 68us/step\n",
      "\n",
      "accuracy =  0.9808\n"
     ]
    }
   ],
   "source": [
    "#查看预测准确率\n",
    "scores = model.evaluate(x_Test_normalize,y_Test_OneHot)\n",
    "print()\n",
    "print('accuracy = ',scores[1])"
   ]
  }
 ],
 "metadata": {
  "kernelspec": {
   "display_name": "Python 3",
   "language": "python",
   "name": "python3"
  },
  "language_info": {
   "codemirror_mode": {
    "name": "ipython",
    "version": 3
   },
   "file_extension": ".py",
   "mimetype": "text/x-python",
   "name": "python",
   "nbconvert_exporter": "python",
   "pygments_lexer": "ipython3",
   "version": "3.6.6"
  }
 },
 "nbformat": 4,
 "nbformat_minor": 2
}
